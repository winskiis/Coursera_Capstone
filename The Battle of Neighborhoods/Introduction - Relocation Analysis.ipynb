{
 "cells": [
  {
   "cell_type": "markdown",
   "metadata": {},
   "source": [
    "# Relocation Analysis\n",
    "In this project, I am looking to develop a data analysis package that can assess similarity between the current neighborhood that I am living in against neighborhoods within Bangkok, Thailand.\n",
    "\n",
    "## Aims of the Project\n",
    "The idea came around as I am in the process of relocating from United Kingdom to Thailand as an expat, and would like to evaluate neighborhoods within Bangkok and find similar neighborhood that shares some similarity to my current neighborhood - Edgbaston, Birmingham, UK. \n",
    "\n",
    "## The Problems\n",
    "I have not been to Thailand for a long time and have very limited knowledge about Bangkok and where is a good place to live. This is a very challenging issue for me as a person who is soon to be living in a foreign city. Any additional knowledge that could help me pick a neighborhood to live in would be fantastic! Nobody wants to relocate half the world away only to live in an unsuitable area far away from everything.\n",
    "\n",
    "## The Solutions\n",
    "In this project, I will look to obtain venues data within the radius of my current neighborhood - Edgbaston, Birmingham, UK and compare it against similar venues data of all neighborhoods in Bangkok, Thailand. These venues data will be obtained from Foursquare, and the neighborhoods coordinates for Bangkok will be scraped from Wikipedia via the following url.\n",
    "https://en.wikipedia.org/wiki/List_of_districts_of_Bangkok\n",
    "\n",
    "-----------------------------------------------------------------"
   ]
  },
  {
   "cell_type": "markdown",
   "metadata": {},
   "source": [
    "# Section 1: Obtaining Data\n",
    "In this section, I am looking to scrape Bangkok's neighborhoods coordinates from Wikipedia (https://en.wikipedia.org/wiki/List_of_districts_of_Bangkok) and find Point of Interests (venues) data from Foursquare. Similar process will also be carried out against my current neighborhood as well."
   ]
  },
  {
   "cell_type": "code",
   "execution_count": 1,
   "metadata": {},
   "outputs": [],
   "source": [
    "#import relevant packages\n",
    "import pandas as pd"
   ]
  },
  {
   "cell_type": "code",
   "execution_count": 2,
   "metadata": {},
   "outputs": [],
   "source": [
    "#scrape coordinates of Bangkok's neighborhood from Wikipedia\n",
    "bangkok_url = 'https://en.wikipedia.org/wiki/List_of_districts_of_Bangkok'\n",
    "\n",
    "bangkok_data = pd.read_html(bangkok_url, match='District')"
   ]
  },
  {
   "cell_type": "code",
   "execution_count": 10,
   "metadata": {},
   "outputs": [
    {
     "name": "stdout",
     "output_type": "stream",
     "text": [
      "Shape of Table: 50 rows and 4 columns.\n"
     ]
    },
    {
     "data": {
      "text/html": [
       "<div>\n",
       "<style scoped>\n",
       "    .dataframe tbody tr th:only-of-type {\n",
       "        vertical-align: middle;\n",
       "    }\n",
       "\n",
       "    .dataframe tbody tr th {\n",
       "        vertical-align: top;\n",
       "    }\n",
       "\n",
       "    .dataframe thead th {\n",
       "        text-align: right;\n",
       "    }\n",
       "</style>\n",
       "<table border=\"1\" class=\"dataframe\">\n",
       "  <thead>\n",
       "    <tr style=\"text-align: right;\">\n",
       "      <th></th>\n",
       "      <th>District</th>\n",
       "      <th>Post Code</th>\n",
       "      <th>Latitude</th>\n",
       "      <th>Longitude</th>\n",
       "    </tr>\n",
       "  </thead>\n",
       "  <tbody>\n",
       "    <tr>\n",
       "      <th>0</th>\n",
       "      <td>Bang Bon</td>\n",
       "      <td>10150</td>\n",
       "      <td>13.659200</td>\n",
       "      <td>100.399100</td>\n",
       "    </tr>\n",
       "    <tr>\n",
       "      <th>1</th>\n",
       "      <td>Bang Kapi</td>\n",
       "      <td>10240</td>\n",
       "      <td>13.765833</td>\n",
       "      <td>100.647778</td>\n",
       "    </tr>\n",
       "    <tr>\n",
       "      <th>2</th>\n",
       "      <td>Bang Khae</td>\n",
       "      <td>10160</td>\n",
       "      <td>13.696111</td>\n",
       "      <td>100.409444</td>\n",
       "    </tr>\n",
       "    <tr>\n",
       "      <th>3</th>\n",
       "      <td>Bang Khen</td>\n",
       "      <td>10220</td>\n",
       "      <td>13.873889</td>\n",
       "      <td>100.596389</td>\n",
       "    </tr>\n",
       "    <tr>\n",
       "      <th>4</th>\n",
       "      <td>Bang Kho Laem</td>\n",
       "      <td>10120</td>\n",
       "      <td>13.693333</td>\n",
       "      <td>100.502500</td>\n",
       "    </tr>\n",
       "  </tbody>\n",
       "</table>\n",
       "</div>"
      ],
      "text/plain": [
       "        District  Post Code   Latitude   Longitude\n",
       "0       Bang Bon      10150  13.659200  100.399100\n",
       "1      Bang Kapi      10240  13.765833  100.647778\n",
       "2      Bang Khae      10160  13.696111  100.409444\n",
       "3      Bang Khen      10220  13.873889  100.596389\n",
       "4  Bang Kho Laem      10120  13.693333  100.502500"
      ]
     },
     "execution_count": 10,
     "metadata": {},
     "output_type": "execute_result"
    }
   ],
   "source": [
    "#cleaned up data by removing unneeded columns and rename appropriately\n",
    "bangkok_data = bangkok_data[0].drop(columns=['MapNr','Thai','Popu-lation','No. ofSubdis-trictsKhwaeng'], axis=1)\n",
    "bangkok_data.columns = ['District','Post Code','Latitude','Longitude']\n",
    "\n",
    "print(\"Shape of Table: {} rows and {} columns.\".format(bangkok_data.shape[0] ,bangkok_data.shape[1]))\n",
    "bangkok_data.head()"
   ]
  },
  {
   "cell_type": "code",
   "execution_count": 12,
   "metadata": {},
   "outputs": [
    {
     "data": {
      "text/html": [
       "<div>\n",
       "<style scoped>\n",
       "    .dataframe tbody tr th:only-of-type {\n",
       "        vertical-align: middle;\n",
       "    }\n",
       "\n",
       "    .dataframe tbody tr th {\n",
       "        vertical-align: top;\n",
       "    }\n",
       "\n",
       "    .dataframe thead th {\n",
       "        text-align: right;\n",
       "    }\n",
       "</style>\n",
       "<table border=\"1\" class=\"dataframe\">\n",
       "  <thead>\n",
       "    <tr style=\"text-align: right;\">\n",
       "      <th></th>\n",
       "      <th>District</th>\n",
       "      <th>Post Code</th>\n",
       "      <th>Latitude</th>\n",
       "      <th>Longitude</th>\n",
       "    </tr>\n",
       "  </thead>\n",
       "  <tbody>\n",
       "    <tr>\n",
       "      <th>0</th>\n",
       "      <td>Edgbaston</td>\n",
       "      <td>B5 7SU</td>\n",
       "      <td>52.454198</td>\n",
       "      <td>-1.905032</td>\n",
       "    </tr>\n",
       "  </tbody>\n",
       "</table>\n",
       "</div>"
      ],
      "text/plain": [
       "    District Post Code   Latitude  Longitude\n",
       "0  Edgbaston    B5 7SU  52.454198  -1.905032"
      ]
     },
     "execution_count": 12,
     "metadata": {},
     "output_type": "execute_result"
    }
   ],
   "source": [
    "#create DataFrame to store similar data of my current neighborhood\n",
    "bham_data = pd.DataFrame({'District':['Edgbaston'],'Post Code':['B5 7SU'],'Latitude': ['52.454198'],'Longitude': ['-1.905032']})\n",
    "bham_data"
   ]
  }
 ],
 "metadata": {
  "kernelspec": {
   "display_name": "Python 3",
   "language": "python",
   "name": "python3"
  },
  "language_info": {
   "codemirror_mode": {
    "name": "ipython",
    "version": 3
   },
   "file_extension": ".py",
   "mimetype": "text/x-python",
   "name": "python",
   "nbconvert_exporter": "python",
   "pygments_lexer": "ipython3",
   "version": "3.7.3"
  }
 },
 "nbformat": 4,
 "nbformat_minor": 2
}
